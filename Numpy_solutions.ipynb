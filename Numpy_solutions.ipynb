{
  "nbformat": 4,
  "nbformat_minor": 0,
  "metadata": {
    "colab": {
      "provenance": []
    },
    "kernelspec": {
      "name": "python3",
      "display_name": "Python 3"
    },
    "language_info": {
      "name": "python"
    }
  },
  "cells": [
    {
      "cell_type": "markdown",
      "source": [
        "Импортируйте библиотеку NumPy"
      ],
      "metadata": {
        "id": "7sVbw21vP7IO"
      }
    },
    {
      "cell_type": "code",
      "execution_count": null,
      "metadata": {
        "id": "HAmbw1qZqk4J"
      },
      "outputs": [],
      "source": [
        "import numpy as np\n"
      ]
    },
    {
      "cell_type": "markdown",
      "source": [
        "Создайте массив из 10 нулей"
      ],
      "metadata": {
        "id": "PlqV0D7IQDDO"
      }
    },
    {
      "cell_type": "code",
      "source": [
        "a = np.zeros(10)\n",
        "print(a)"
      ],
      "metadata": {
        "colab": {
          "base_uri": "https://localhost:8080/"
        },
        "id": "1wErkfQ8fWZ9",
        "outputId": "52374589-b379-452b-9f6f-fa453e5a422a"
      },
      "execution_count": null,
      "outputs": [
        {
          "output_type": "stream",
          "name": "stdout",
          "text": [
            "[0. 0. 0. 0. 0. 0. 0. 0. 0. 0.]\n"
          ]
        }
      ]
    },
    {
      "cell_type": "markdown",
      "source": [
        "Создать массив из 10 единиц"
      ],
      "metadata": {
        "id": "e9KrqvbnQKDb"
      }
    },
    {
      "cell_type": "code",
      "source": [
        "b = np.ones(10)\n",
        "print (b)"
      ],
      "metadata": {
        "colab": {
          "base_uri": "https://localhost:8080/"
        },
        "id": "-B6L-JhutOLj",
        "outputId": "53887db0-d58b-4594-9157-be27bc7b2bee"
      },
      "execution_count": null,
      "outputs": [
        {
          "output_type": "stream",
          "name": "stdout",
          "text": [
            "[1. 1. 1. 1. 1. 1. 1. 1. 1. 1.]\n"
          ]
        }
      ]
    },
    {
      "cell_type": "markdown",
      "source": [
        "Создать массив из 10 пятерок"
      ],
      "metadata": {
        "id": "kPEcU78-QQB7"
      }
    },
    {
      "cell_type": "code",
      "source": [
        "C = [5]*10\n",
        "print (C)"
      ],
      "metadata": {
        "colab": {
          "base_uri": "https://localhost:8080/"
        },
        "id": "k4SGAVRdtZMg",
        "outputId": "31fc5a2f-e584-4d80-d175-14c6952c3bd5"
      },
      "execution_count": null,
      "outputs": [
        {
          "output_type": "stream",
          "name": "stdout",
          "text": [
            "[5, 5, 5, 5, 5, 5, 5, 5, 5, 5]\n"
          ]
        }
      ]
    },
    {
      "cell_type": "markdown",
      "source": [
        "Создать массив из целых чисел от 10 до 50"
      ],
      "metadata": {
        "id": "SpDhxoiwQWEG"
      }
    },
    {
      "cell_type": "code",
      "source": [
        "D = list(range(10,51))\n",
        "print (D)"
      ],
      "metadata": {
        "id": "P7Mrv5hFtkWe"
      },
      "execution_count": null,
      "outputs": []
    },
    {
      "cell_type": "markdown",
      "source": [
        "Создать массив из четных чисел от 10 до 50"
      ],
      "metadata": {
        "id": "FcHUqV8ZQfLp"
      }
    },
    {
      "cell_type": "code",
      "source": [
        "i = 10\n",
        "while i <= 50:\n",
        "    if i % 2 == 0:\n",
        "        print(i)\n",
        "    i += 1\n"
      ],
      "metadata": {
        "id": "D2t7Gm8xv_9f"
      },
      "execution_count": null,
      "outputs": []
    },
    {
      "cell_type": "markdown",
      "source": [
        "Создать матрицу 3х3 с числами от 0 до 8"
      ],
      "metadata": {
        "id": "guIUO6toQkIh"
      }
    },
    {
      "cell_type": "code",
      "source": [
        "F = np.arange(9).reshape(3,3) \n",
        "print(F)"
      ],
      "metadata": {
        "colab": {
          "base_uri": "https://localhost:8080/"
        },
        "id": "ipACeqQ617dl",
        "outputId": "1572e19e-a8d1-46e0-c84f-5330a70abfc4"
      },
      "execution_count": null,
      "outputs": [
        {
          "output_type": "stream",
          "name": "stdout",
          "text": [
            "[[0 1 2]\n",
            " [3 4 5]\n",
            " [6 7 8]]\n"
          ]
        }
      ]
    },
    {
      "cell_type": "markdown",
      "source": [
        "Создать единичную матрицу 3x3"
      ],
      "metadata": {
        "id": "XJBoqHr4QvWT"
      }
    },
    {
      "cell_type": "code",
      "source": [
        "A_eye = np.eye(3)\n",
        "print(A_eye)"
      ],
      "metadata": {
        "colab": {
          "base_uri": "https://localhost:8080/"
        },
        "id": "VYPjSwCy3JAr",
        "outputId": "283502e9-057e-40e3-a1ec-6781b8248dca"
      },
      "execution_count": null,
      "outputs": [
        {
          "output_type": "stream",
          "name": "stdout",
          "text": [
            "[[1. 0. 0.]\n",
            " [0. 1. 0.]\n",
            " [0. 0. 1.]]\n"
          ]
        }
      ]
    },
    {
      "cell_type": "markdown",
      "source": [
        "Используйте NumPy для генерации случайного числа от 0 до 1"
      ],
      "metadata": {
        "id": "EpPlcLm_Q0VM"
      }
    },
    {
      "cell_type": "code",
      "source": [
        "import random\n",
        "G = random.random()\n",
        "print (G)"
      ],
      "metadata": {
        "colab": {
          "base_uri": "https://localhost:8080/"
        },
        "id": "KYAKlJa94Hy9",
        "outputId": "0cededda-0bc4-47a4-c86b-7250016b46ac"
      },
      "execution_count": null,
      "outputs": [
        {
          "output_type": "stream",
          "name": "stdout",
          "text": [
            "0.4051045464781057\n"
          ]
        }
      ]
    },
    {
      "cell_type": "markdown",
      "source": [
        "Используйте NumPy для генерации массива из 25 случайных чисел,взятых из стандартного нормального распределения"
      ],
      "metadata": {
        "id": "FlMn2S4rQ52u"
      }
    },
    {
      "cell_type": "code",
      "source": [
        "H = np.random.randn(1, 25)\n",
        "print (H)"
      ],
      "metadata": {
        "colab": {
          "base_uri": "https://localhost:8080/"
        },
        "id": "vgLhJqVo4Xgc",
        "outputId": "19191360-a044-4d08-feec-7b3fc2b5711b"
      },
      "execution_count": null,
      "outputs": [
        {
          "output_type": "stream",
          "name": "stdout",
          "text": [
            "[[ 0.94356481 -0.14554843  0.15397905  1.01522538 -0.19591122 -0.25868087\n",
            "   0.0291124  -0.34592353 -2.33532485 -0.12585623  0.59813456  0.04738546\n",
            "  -0.53535744  1.11165985 -0.5274294  -0.17042575  0.15982453  0.86902084\n",
            "   0.32966514 -0.3974178   0.28028541  1.03873721 -0.29459021 -0.84521915\n",
            "   1.33171268]]\n"
          ]
        }
      ]
    },
    {
      "cell_type": "markdown",
      "source": [
        "Создайте следующую матрицу используя функции библиотеки NumPy\n"
      ],
      "metadata": {
        "id": "pEMJC9_LQ_-i"
      }
    },
    {
      "cell_type": "code",
      "source": [
        "np.linspace(0.01, 1.0, 100)"
      ],
      "metadata": {
        "colab": {
          "base_uri": "https://localhost:8080/"
        },
        "id": "CJgmNBTp7lmc",
        "outputId": "aeef1a46-c3ef-43c9-a592-cc424e6f0188"
      },
      "execution_count": null,
      "outputs": [
        {
          "output_type": "execute_result",
          "data": {
            "text/plain": [
              "array([0.01, 0.02, 0.03, 0.04, 0.05, 0.06, 0.07, 0.08, 0.09, 0.1 , 0.11,\n",
              "       0.12, 0.13, 0.14, 0.15, 0.16, 0.17, 0.18, 0.19, 0.2 , 0.21, 0.22,\n",
              "       0.23, 0.24, 0.25, 0.26, 0.27, 0.28, 0.29, 0.3 , 0.31, 0.32, 0.33,\n",
              "       0.34, 0.35, 0.36, 0.37, 0.38, 0.39, 0.4 , 0.41, 0.42, 0.43, 0.44,\n",
              "       0.45, 0.46, 0.47, 0.48, 0.49, 0.5 , 0.51, 0.52, 0.53, 0.54, 0.55,\n",
              "       0.56, 0.57, 0.58, 0.59, 0.6 , 0.61, 0.62, 0.63, 0.64, 0.65, 0.66,\n",
              "       0.67, 0.68, 0.69, 0.7 , 0.71, 0.72, 0.73, 0.74, 0.75, 0.76, 0.77,\n",
              "       0.78, 0.79, 0.8 , 0.81, 0.82, 0.83, 0.84, 0.85, 0.86, 0.87, 0.88,\n",
              "       0.89, 0.9 , 0.91, 0.92, 0.93, 0.94, 0.95, 0.96, 0.97, 0.98, 0.99,\n",
              "       1.  ])"
            ]
          },
          "metadata": {},
          "execution_count": 58
        }
      ]
    },
    {
      "cell_type": "markdown",
      "source": [
        "Дана стартовая матрица (обязательно запустите код ниже в вашем решении!). Эта матрица будет использоваться в последующих задачах"
      ],
      "metadata": {
        "id": "E2DTobNkRNF3"
      }
    },
    {
      "cell_type": "code",
      "source": [
        "mat = np.arange(1,26).reshape(5,5)\n",
        "print(mat)\n"
      ],
      "metadata": {
        "colab": {
          "base_uri": "https://localhost:8080/"
        },
        "id": "UE3PbcvH78CX",
        "outputId": "471cf3cd-e5d7-4843-8cb2-45458e7e6280"
      },
      "execution_count": null,
      "outputs": [
        {
          "output_type": "stream",
          "name": "stdout",
          "text": [
            "[[ 1  2  3  4  5]\n",
            " [ 6  7  8  9 10]\n",
            " [11 12 13 14 15]\n",
            " [16 17 18 19 20]\n",
            " [21 22 23 24 25]]\n"
          ]
        }
      ]
    },
    {
      "cell_type": "markdown",
      "source": [
        "Необходимо написать код который вернет следующую матрицу из стартовой"
      ],
      "metadata": {
        "id": "Sk9zY1TzRUEk"
      }
    },
    {
      "cell_type": "code",
      "source": [
        "print(mat[2:5, 1:5]) "
      ],
      "metadata": {
        "colab": {
          "base_uri": "https://localhost:8080/"
        },
        "id": "v34hB6M-F0jR",
        "outputId": "aa4fe814-38b6-4836-d8df-2bf93ec311c9"
      },
      "execution_count": null,
      "outputs": [
        {
          "output_type": "stream",
          "name": "stdout",
          "text": [
            "[[12 13 14 15]\n",
            " [17 18 19 20]\n",
            " [22 23 24 25]]\n"
          ]
        }
      ]
    },
    {
      "cell_type": "markdown",
      "source": [
        "Написать код обращения к элементу который вернет значение  20 изстартовой матрицы задачи"
      ],
      "metadata": {
        "id": "-xHJ_D5sRavq"
      }
    },
    {
      "cell_type": "code",
      "source": [
        "print(mat[3][4])"
      ],
      "metadata": {
        "colab": {
          "base_uri": "https://localhost:8080/"
        },
        "id": "Lm-YVexOGa-A",
        "outputId": "8534cd20-6367-4d16-ede6-36a787b831e4"
      },
      "execution_count": null,
      "outputs": [
        {
          "output_type": "stream",
          "name": "stdout",
          "text": [
            "20\n"
          ]
        }
      ]
    },
    {
      "cell_type": "markdown",
      "source": [
        "Написать код к стартовой матрице задачи l , который воспроизводитвывод, показанный ниже"
      ],
      "metadata": {
        "id": "n-rFoJX4Rg8x"
      }
    },
    {
      "cell_type": "code",
      "source": [
        "print(mat[0][1])  \n",
        "print( mat[1][1])\n",
        "print(mat[2][1])"
      ],
      "metadata": {
        "colab": {
          "base_uri": "https://localhost:8080/"
        },
        "id": "rFiXijc7JUl1",
        "outputId": "b9917f8b-a2ae-4e85-c4dc-53dd6fdafc49"
      },
      "execution_count": null,
      "outputs": [
        {
          "output_type": "stream",
          "name": "stdout",
          "text": [
            "2\n",
            "7\n",
            "12\n"
          ]
        }
      ]
    },
    {
      "cell_type": "code",
      "source": [
        "print(np.array([mat[0, 1], mat[1, 1], mat[2, 1]]))"
      ],
      "metadata": {
        "colab": {
          "base_uri": "https://localhost:8080/"
        },
        "id": "-5LcG39cK4YR",
        "outputId": "d3152536-f821-4983-ac56-d63161837047"
      },
      "execution_count": null,
      "outputs": [
        {
          "output_type": "stream",
          "name": "stdout",
          "text": [
            "[ 2  7 12]\n"
          ]
        }
      ]
    },
    {
      "cell_type": "markdown",
      "source": [
        "Написать код к стартовой матрице задачи l , который воспроизводитвывод, показанный ниже"
      ],
      "metadata": {
        "id": "FqRZY-7uRn8n"
      }
    },
    {
      "cell_type": "code",
      "source": [
        "print(mat[-1])"
      ],
      "metadata": {
        "colab": {
          "base_uri": "https://localhost:8080/"
        },
        "id": "T8UKupjlLJHG",
        "outputId": "9cf6cb94-76c8-4e67-91c3-f8c5d2b0fd1f"
      },
      "execution_count": null,
      "outputs": [
        {
          "output_type": "stream",
          "name": "stdout",
          "text": [
            "[21 22 23 24 25]\n"
          ]
        }
      ]
    },
    {
      "cell_type": "markdown",
      "source": [
        "Написать код к стартовой матрице задачи l , который воспроизводитвывод, показанный ниже"
      ],
      "metadata": {
        "id": "A8R7OGZtRtds"
      }
    },
    {
      "cell_type": "code",
      "source": [
        "print(mat[3])\n",
        "print(mat[-1])"
      ],
      "metadata": {
        "colab": {
          "base_uri": "https://localhost:8080/"
        },
        "id": "IViJ9JYML0eE",
        "outputId": "2fe1eb7d-946f-4ac6-8c26-6287987986a9"
      },
      "execution_count": null,
      "outputs": [
        {
          "output_type": "stream",
          "name": "stdout",
          "text": [
            "[16 17 18 19 20]\n",
            "[21 22 23 24 25]\n"
          ]
        }
      ]
    },
    {
      "cell_type": "markdown",
      "source": [
        "Получить сумму всех значений в стартовой матрице mat"
      ],
      "metadata": {
        "id": "qZxjKWUHR11y"
      }
    },
    {
      "cell_type": "code",
      "source": [
        "np.sum(mat)"
      ],
      "metadata": {
        "colab": {
          "base_uri": "https://localhost:8080/"
        },
        "id": "1d_Bic0OOxsp",
        "outputId": "93797852-10cc-4475-c2d4-1f14b07046bb"
      },
      "execution_count": null,
      "outputs": [
        {
          "output_type": "execute_result",
          "data": {
            "text/plain": [
              "325"
            ]
          },
          "metadata": {},
          "execution_count": 107
        }
      ]
    },
    {
      "cell_type": "markdown",
      "source": [
        "Получить стандартное отклонение в стартовой матрице mat"
      ],
      "metadata": {
        "id": "2InaJm51R93T"
      }
    },
    {
      "cell_type": "code",
      "source": [
        "arr = np.array(mat)\n",
        "dev = np.std(arr)\n",
        "print(dev)"
      ],
      "metadata": {
        "colab": {
          "base_uri": "https://localhost:8080/"
        },
        "id": "W9mMbcfPPHrI",
        "outputId": "cbad4149-9625-44d5-ed3e-9082bae6fa73"
      },
      "execution_count": null,
      "outputs": [
        {
          "output_type": "stream",
          "name": "stdout",
          "text": [
            "7.211102550927978\n"
          ]
        }
      ]
    },
    {
      "cell_type": "markdown",
      "source": [
        "Получить сумму значений в колонках в стартовой матрице mat"
      ],
      "metadata": {
        "id": "rHVJVeQQSCEr"
      }
    },
    {
      "cell_type": "code",
      "source": [
        "np.sum(mat, axis = 0) "
      ],
      "metadata": {
        "colab": {
          "base_uri": "https://localhost:8080/"
        },
        "id": "Z2mrD9T6PO7T",
        "outputId": "46438741-7aaf-43d1-d86e-9bbbbb2b453b"
      },
      "execution_count": null,
      "outputs": [
        {
          "output_type": "execute_result",
          "data": {
            "text/plain": [
              "array([55, 60, 65, 70, 75])"
            ]
          },
          "metadata": {},
          "execution_count": 105
        }
      ]
    }
  ]
}